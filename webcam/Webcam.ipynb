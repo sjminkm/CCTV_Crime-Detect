{
 "cells": [
  {
   "cell_type": "code",
   "execution_count": 3,
   "metadata": {},
   "outputs": [
    {
     "name": "stdout",
     "output_type": "stream",
     "text": [
      "Requirement already satisfied: parallel-ssh in c:\\users\\iconms12\\anaconda3\\lib\\site-packages (2.1.0.post1)\n",
      "Requirement already satisfied: ssh2-python>=0.22.0 in c:\\users\\iconms12\\anaconda3\\lib\\site-packages (from parallel-ssh) (0.23.0)\n",
      "Requirement already satisfied: gevent>=1.1 in c:\\users\\iconms12\\anaconda3\\lib\\site-packages (from parallel-ssh) (20.6.2)\n",
      "Requirement already satisfied: ssh-python>=0.8.0 in c:\\users\\iconms12\\anaconda3\\lib\\site-packages (from parallel-ssh) (0.8.0.post1)\n",
      "Requirement already satisfied: greenlet>=0.4.16; platform_python_implementation == \"CPython\" in c:\\users\\iconms12\\anaconda3\\lib\\site-packages (from gevent>=1.1->parallel-ssh) (0.4.16)\n",
      "Requirement already satisfied: cffi>=1.12.2; platform_python_implementation == \"CPython\" and sys_platform == \"win32\" in c:\\users\\iconms12\\anaconda3\\lib\\site-packages (from gevent>=1.1->parallel-ssh) (1.14.0)\n",
      "Requirement already satisfied: zope.interface in c:\\users\\iconms12\\anaconda3\\lib\\site-packages (from gevent>=1.1->parallel-ssh) (4.7.1)\n",
      "Requirement already satisfied: setuptools in c:\\users\\iconms12\\anaconda3\\lib\\site-packages (from gevent>=1.1->parallel-ssh) (49.2.0.post20200714)\n",
      "Requirement already satisfied: zope.event in c:\\users\\iconms12\\anaconda3\\lib\\site-packages (from gevent>=1.1->parallel-ssh) (4.4)\n",
      "Requirement already satisfied: pycparser in c:\\users\\iconms12\\anaconda3\\lib\\site-packages (from cffi>=1.12.2; platform_python_implementation == \"CPython\" and sys_platform == \"win32\"->gevent>=1.1->parallel-ssh) (2.20)\n",
      "Requirement already satisfied: tqdm in c:\\users\\iconms12\\anaconda3\\lib\\site-packages (4.47.0)\n",
      "Requirement already satisfied: opencv-python in c:\\users\\iconms12\\anaconda3\\lib\\site-packages (4.4.0.46)\n",
      "Requirement already satisfied: numpy>=1.17.3 in c:\\users\\iconms12\\anaconda3\\lib\\site-packages (from opencv-python) (1.18.5)\n",
      "Collecting scp\n",
      "  Using cached scp-0.13.3-py2.py3-none-any.whl (8.2 kB)\n",
      "Requirement already satisfied: paramiko in c:\\users\\iconms12\\anaconda3\\lib\\site-packages (from scp) (2.7.1)\n",
      "Requirement already satisfied: pynacl>=1.0.1 in c:\\users\\iconms12\\anaconda3\\lib\\site-packages (from paramiko->scp) (1.4.0)\n",
      "Requirement already satisfied: bcrypt>=3.1.3 in c:\\users\\iconms12\\anaconda3\\lib\\site-packages (from paramiko->scp) (3.1.7)\n",
      "Requirement already satisfied: cryptography>=2.5 in c:\\users\\iconms12\\anaconda3\\lib\\site-packages (from paramiko->scp) (2.9.2)\n",
      "Requirement already satisfied: cffi>=1.4.1 in c:\\users\\iconms12\\anaconda3\\lib\\site-packages (from pynacl>=1.0.1->paramiko->scp) (1.14.0)\n",
      "Requirement already satisfied: six in c:\\users\\iconms12\\anaconda3\\lib\\site-packages (from pynacl>=1.0.1->paramiko->scp) (1.15.0)\n",
      "Requirement already satisfied: pycparser in c:\\users\\iconms12\\anaconda3\\lib\\site-packages (from cffi>=1.4.1->pynacl>=1.0.1->paramiko->scp) (2.20)\n",
      "Installing collected packages: scp\n",
      "Successfully installed scp-0.13.3\n"
     ]
    }
   ],
   "source": [
    "#서버 접속부분\n",
    "!pip install parallel-ssh\n",
    "!pip install tqdm\n",
    "!pip install opencv-python\n",
    "!pip install scp"
   ]
  },
  {
   "cell_type": "code",
   "execution_count": 4,
   "metadata": {
    "scrolled": true
   },
   "outputs": [],
   "source": [
    "from paramiko import SSHClient\n",
    "from scp import SCPClient\n",
    "import paramiko\n",
    "import time\n",
    "\n",
    "def send_command():\n",
    "    ipaddress = \"210.115.229.4\"\n",
    "    port=\"5022\"\n",
    "    id=\"seeds\"\n",
    "    pw='1111133333'\n",
    "\n",
    "    ssh= SSHClient()\n",
    "    ssh.set_missing_host_key_policy(paramiko.AutoAddPolicy())\n",
    "    ssh.connect(ipaddress,port=5022,username=id,password=pw)\n",
    "\n",
    "    scp= SCPClient(ssh.get_transport())\n",
    "    \n",
    "    remote_path =\"/home/seeds/iconms12/tmp/image_Captioning/image_ex\"\n",
    "    scp.put('c:/Users/iconms12/realtime_objectdetecting/img/person.png',remote_path) #서버에 전송\n",
    "    #ssh.exec_command(command)\n",
    "    stdin, stdout, stderr = ssh.exec_command('cd /home/seeds/iconms12/tmp/image_Captioning;/home/seeds/iconms12/tmp/yes/bin/python run.py person.png' ,get_pty=True)\n",
    "    for line in iter(stdout.readline, \"\"):\n",
    "        print(line, end=\"\")\n",
    "    scp.get('/home/seeds/iconms12/tmp/image_Captioning/text_output/output.txt','C:/Users/iconms12/realtime_objectdetecting/msg_file')\n",
    "\n",
    "    #ssh.exec_command('rm -rf ./iconms12/tmp/image_Captioning/image_input')\n",
    "\n",
    "    scp.close()"
   ]
  },
  {
   "cell_type": "code",
   "execution_count": 9,
   "metadata": {},
   "outputs": [
    {
     "ename": "NameError",
     "evalue": "name 'send_command' is not defined",
     "output_type": "error",
     "traceback": [
      "\u001b[1;31m---------------------------------------------------------------------------\u001b[0m",
      "\u001b[1;31mNameError\u001b[0m                                 Traceback (most recent call last)",
      "\u001b[1;32m<ipython-input-9-d8a682811e91>\u001b[0m in \u001b[0;36m<module>\u001b[1;34m\u001b[0m\n\u001b[1;32m----> 1\u001b[1;33m \u001b[0msend_command\u001b[0m\u001b[1;33m(\u001b[0m\u001b[1;33m)\u001b[0m\u001b[1;33m\u001b[0m\u001b[1;33m\u001b[0m\u001b[0m\n\u001b[0m",
      "\u001b[1;31mNameError\u001b[0m: name 'send_command' is not defined"
     ]
    }
   ],
   "source": [
    "send_command()"
   ]
  },
  {
   "cell_type": "code",
   "execution_count": 5,
   "metadata": {
    "scrolled": true
   },
   "outputs": [
    {
     "name": "stdout",
     "output_type": "stream",
     "text": [
      "=> Loading checkpoint\n",
      "현재위치: 손민성 집의 CCTV \n",
      " 촬영시각: 2020년11월 12일 01시 59분 41초 \n",
      " 상세내용: 한남자가<UNK><UNK><UNK><UNK><UNK><UNK><UNK><UNK><UNK><UNK><UNK><UNK><UNK><UNK><UNK><UNK><UNK><UNK><UNK><UNK><UNK><UNK><UNK><UNK><UNK><UNK><UNK><UNK><UNK><UNK><UNK><UNK><UNK><UNK><UNK><UNK><UNK><UNK><UNK><UNK><UNK><UNK><UNK><UNK><UNK>\n",
      "=> Loading checkpoint\n",
      "현재위치: 손민성 집의 CCTV \n",
      " 촬영시각: 2020년11월 12일 01시 59분 50초 \n",
      " 상세내용: 한남자가<UNK><UNK><UNK><UNK><UNK><UNK><UNK><UNK><UNK><UNK><UNK><UNK><UNK><UNK><UNK><UNK><UNK><UNK><UNK><UNK><UNK><UNK><UNK><UNK><UNK><UNK><UNK><UNK><UNK><UNK><UNK><UNK><UNK><UNK><UNK><UNK><UNK><UNK><UNK><UNK><UNK><UNK><UNK><UNK><UNK>\n",
      "=> Loading checkpoint\n",
      "현재위치: 손민성 집의 CCTV \n",
      " 촬영시각: 2020년11월 12일 01시 59분 58초 \n",
      " 상세내용: 한남자가<UNK><UNK><UNK><UNK><UNK><UNK><UNK><UNK><UNK><UNK><UNK><UNK><UNK><UNK><UNK><UNK><UNK><UNK><UNK><UNK><UNK><UNK><UNK><UNK><UNK><UNK><UNK><UNK><UNK><UNK><UNK><UNK><UNK><UNK><UNK><UNK><UNK><UNK><UNK><UNK><UNK><UNK><UNK><UNK><UNK>\n"
     ]
    }
   ],
   "source": [
    "\n",
    "import cv2\n",
    "import numpy as np\n",
    "import os\n",
    "# 웹캠 신호 받기\n",
    "VideoSignal = cv2.VideoCapture(0)\n",
    "VideoSignal.set(cv2.CAP_PROP_FPS, 15)\n",
    "# YOLO 가중치 파일과 CFG 파일 로드\n",
    "YOLO_net = cv2.dnn.readNet(\"yolov3.weights\",\"yolov3.cfg\")\n",
    "\n",
    "# YOLO NETWORK 재구성\n",
    "classes = []\n",
    "with open(\"yolo.names\", \"r\") as f:\n",
    "    classes = [line.strip() for line in f.readlines()]\n",
    "layer_names = YOLO_net.getLayerNames()\n",
    "output_layers = [layer_names[i[0] - 1] for i in YOLO_net.getUnconnectedOutLayers()]\n",
    "count2=0;\n",
    "count=1;\n",
    "\n",
    "while True:\n",
    "    # 웹캠 프레임\n",
    "    ret, frame = VideoSignal.read()\n",
    "    h, w, c = frame.shape\n",
    "\n",
    "    # YOLO 입력\n",
    "    blob = cv2.dnn.blobFromImage(frame, 0.00392, (416, 416), (0, 0, 0),\n",
    "    True, crop=False)\n",
    "    YOLO_net.setInput(blob)\n",
    "    outs = YOLO_net.forward(output_layers)\n",
    "\n",
    "    class_ids = []\n",
    "    confidences = []\n",
    "    boxes = []\n",
    "\n",
    "    for out in outs:\n",
    "\n",
    "        for detection in out:\n",
    "\n",
    "            scores = detection[5:]\n",
    "            class_id = np.argmax(scores)\n",
    "            confidence = scores[class_id]\n",
    "\n",
    "            if confidence > 0.5:\n",
    "                # Object detected\n",
    "                center_x = int(detection[0] * w)\n",
    "                center_y = int(detection[1] * h)\n",
    "                dw = int(detection[2] * w)\n",
    "                dh = int(detection[3] * h)\n",
    "                # Rectangle coordinate\n",
    "                x = int(center_x - dw / 2)\n",
    "                y = int(center_y - dh / 2)\n",
    "                boxes.append([x, y, dw, dh])\n",
    "                confidences.append(float(confidence))\n",
    "                class_ids.append(class_id)\n",
    "\n",
    "    indexes = cv2.dnn.NMSBoxes(boxes, confidences, 0.45, 0.4)\n",
    "\n",
    "    \n",
    "    for i in range(len(boxes)):\n",
    "        if i in indexes:\n",
    "            x, y, w, h = boxes[i]\n",
    "            label = str(classes[class_ids[i]])\n",
    "            score = confidences[i]\n",
    "\n",
    "            # 경계상자와 클래스 정보 이미지에 입력\n",
    "            cv2.rectangle(frame, (x-50, y-50), (x + w+50, y + h+50), (0, 0, 255), 5)\n",
    "            cv2.putText(frame, label, (x, y - 20), cv2.FONT_ITALIC, 1, \n",
    "            (0, 0, 255), 1)\n",
    "            \n",
    "            if count % 3 == 0 or label == 'person' : #3프레임 단위로 저장\n",
    "                count2+=1\n",
    "                img_trim = frame[y-50 :y +h +50, x -50 :x +w +50]\n",
    "                img_name = \"c:/Users/iconms12/realtime_objectdetecting/img/person.png\"\n",
    "                cv2.imwrite(img_name, img_trim)\n",
    "                send_command()\n",
    "                a=open('C:/Users/iconms12/realtime_objectdetecting/msg_file/output.txt','r',encoding='UTF8')\n",
    "                \n",
    "                read= a.readline();\n",
    "                if(read == '<위험상황>'):\n",
    "                    print(a.read())\n",
    "                    #문자 -\n",
    "                    #이메일 -\n",
    "                else:\n",
    "                    print(a.read())\n",
    "                   #os.remove('c:/Users/iconms12/realtime_objectdetecting/img/person_frame.png')\n",
    "                a.close()\n",
    "            count+=1\n",
    "            \n",
    "            \n",
    "            \n",
    "    cv2.imshow(\"YOLOv3\", frame)\n",
    "\n",
    "    if cv2.waitKey(1) == ord('q'):\n",
    "        break"
   ]
  },
  {
   "cell_type": "code",
   "execution_count": null,
   "metadata": {},
   "outputs": [],
   "source": []
  },
  {
   "cell_type": "code",
   "execution_count": null,
   "metadata": {},
   "outputs": [],
   "source": []
  }
 ],
 "metadata": {
  "kernelspec": {
   "display_name": "Python 3",
   "language": "python",
   "name": "python3"
  },
  "language_info": {
   "codemirror_mode": {
    "name": "ipython",
    "version": 3
   },
   "file_extension": ".py",
   "mimetype": "text/x-python",
   "name": "python",
   "nbconvert_exporter": "python",
   "pygments_lexer": "ipython3",
   "version": "3.8.3"
  }
 },
 "nbformat": 4,
 "nbformat_minor": 4
}
